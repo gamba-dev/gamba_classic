{
  "cells": [
    {
      "cell_type": "code",
      "execution_count": null,
      "metadata": {
        "collapsed": false
      },
      "outputs": [],
      "source": [
        "%matplotlib inline"
      ]
    },
    {
      "cell_type": "markdown",
      "metadata": {},
      "source": [
        "\nBehavioural Measures Histogram\n================================\n\nWe can get an idea for the distribution of a given behavioural measure by creating a histogram.\nThis simple visualisation also adds labels for the mean and median values of the measure provided.\n"
      ]
    },
    {
      "cell_type": "code",
      "execution_count": null,
      "metadata": {
        "collapsed": false
      },
      "outputs": [],
      "source": [
        "import gamba as gb\nimport numpy as np # for generating some data\nimport pandas as pd\n\n# create a measures table to use for the example\nmeasures_table = pd.DataFrame()\nmeasures_table['duration'] = np.random.exponential(scale=1,size=(1000,5)).sum(axis=1)\n\nhistogram = gb.plot_measure_hist(measures_table, 'duration')\n\nhistogram.show()"
      ]
    }
  ],
  "metadata": {
    "kernelspec": {
      "display_name": "Python 3",
      "language": "python",
      "name": "python3"
    },
    "language_info": {
      "codemirror_mode": {
        "name": "ipython",
        "version": 3
      },
      "file_extension": ".py",
      "mimetype": "text/x-python",
      "name": "python",
      "nbconvert_exporter": "python",
      "pygments_lexer": "ipython3",
      "version": "3.8.0"
    }
  },
  "nbformat": 4,
  "nbformat_minor": 0
}