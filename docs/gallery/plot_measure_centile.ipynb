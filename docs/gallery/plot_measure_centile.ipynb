{
  "cells": [
    {
      "cell_type": "code",
      "execution_count": null,
      "metadata": {
        "collapsed": false
      },
      "outputs": [],
      "source": [
        "%matplotlib inline"
      ]
    },
    {
      "cell_type": "markdown",
      "metadata": {},
      "source": [
        "\nBehavioural Measures Centile Plot\n===================================\n\nThe gamba.plot_measure_centile accepts a top_heavy parameter, which if set to True groups the bars into five-percentile chunks.\nFrom the 95th percentile its scheme changes, with each further bar representing only one percent of the population.\nSee the image below for an example, and note that the x axis here is not continuous towards the end!\n"
      ]
    },
    {
      "cell_type": "code",
      "execution_count": null,
      "metadata": {
        "collapsed": false
      },
      "outputs": [],
      "source": [
        "import gamba as gb\nimport numpy as np # for generating some data\nimport pandas as pd\n\n# create a measures table to use for the example\nmeasures_table = pd.DataFrame()\nmeasures_table['duration'] = np.random.exponential(scale=1,size=(1000,5)).sum(axis=1)\n\ntop_heavy_centile = gb.plot_measure_centile(measures_table, 'duration', top_heavy=True)\ntop_heavy_centile.show()"
      ]
    },
    {
      "cell_type": "markdown",
      "metadata": {},
      "source": [
        "Without the top_heavy parameter, each centile will be plotted on a continuous x-axis.\nThis can be useful early on in your analysis to get a feel for the distribution of a measure without doing any of the more complicated plots!\n\n"
      ]
    },
    {
      "cell_type": "code",
      "execution_count": null,
      "metadata": {
        "collapsed": false
      },
      "outputs": [],
      "source": [
        "centile = gb.plot_measure_centile(measures_table, 'duration')\ncentile.show()"
      ]
    }
  ],
  "metadata": {
    "kernelspec": {
      "display_name": "Python 3",
      "language": "python",
      "name": "python3"
    },
    "language_info": {
      "codemirror_mode": {
        "name": "ipython",
        "version": 3
      },
      "file_extension": ".py",
      "mimetype": "text/x-python",
      "name": "python",
      "nbconvert_exporter": "python",
      "pygments_lexer": "ipython3",
      "version": "3.8.0"
    }
  },
  "nbformat": 4,
  "nbformat_minor": 0
}