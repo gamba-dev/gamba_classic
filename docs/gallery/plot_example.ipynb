{
  "cells": [
    {
      "cell_type": "code",
      "execution_count": null,
      "metadata": {
        "collapsed": false
      },
      "outputs": [],
      "source": [
        "%matplotlib inline"
      ]
    },
    {
      "cell_type": "markdown",
      "metadata": {},
      "source": [
        "\nNeon Line Plot\n==========================\n\nThis is a test figure using code from `Dominik Haitz cyberpunk article for matplotlib <https://matplotlib.org/matplotblog/posts/matplotlib-cyberpunk-style/>`_\n"
      ]
    },
    {
      "cell_type": "code",
      "execution_count": null,
      "metadata": {
        "collapsed": false
      },
      "outputs": [],
      "source": [
        "import matplotlib.pyplot as plt, pandas as pd\n\ndata = [10,11,14,8,9,11,11,14,8,9,11]\ncolor = '#00ff41'\n\nplt.style.use(\"dark_background\")\nplt.rcParams['axes.axisbelow'] = True\nfor param in ['text.color', 'axes.labelcolor', 'xtick.color', 'ytick.color']:\n    plt.rcParams[param] = '0.9'  # very light grey\n\nfor param in ['figure.facecolor', 'axes.facecolor', 'savefig.facecolor']:\n    plt.rcParams[param] = '#212946'  # bluish dark grey\n\nplt.figure(figsize=[10,4])\n\nplt.plot(range(len(data)), data, color=color, label='data') # plot the line\n\nfor n in range(1, 10):\n    plt.plot(range(len(data)), data, linewidth=(1.1 * n), alpha=0.03, color=color) # add blur around the line\nplt.fill_between(range(len(data)), data, [min(data)*0.9]*len(data), alpha=0.1, color=color)\n\nplt.ylim(min(data)*0.9, max(data)*1.08)\n\nplt.grid(color='#2A3459')\nplt.legend()\nplt.scatter(range(len(data)), data, color=color) # plot the points\nplt.show()"
      ]
    }
  ],
  "metadata": {
    "kernelspec": {
      "display_name": "Python 3",
      "language": "python",
      "name": "python3"
    },
    "language_info": {
      "codemirror_mode": {
        "name": "ipython",
        "version": 3
      },
      "file_extension": ".py",
      "mimetype": "text/x-python",
      "name": "python",
      "nbconvert_exporter": "python",
      "pygments_lexer": "ipython3",
      "version": "3.8.0"
    }
  },
  "nbformat": 4,
  "nbformat_minor": 0
}