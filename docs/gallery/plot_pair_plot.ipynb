{
  "cells": [
    {
      "cell_type": "code",
      "execution_count": null,
      "metadata": {
        "collapsed": false
      },
      "outputs": [],
      "source": [
        "%matplotlib inline"
      ]
    },
    {
      "cell_type": "markdown",
      "metadata": {},
      "source": [
        "\nPair Plot Between Behavioural Measures\n=======================================\n\nWe can visualize the relationships between different behavioural measures using a pair plot.\nThis should help you gain insight into both the distributions of each measure, and how players typically score across each measure.\nTo create this plot using the :any:`gamba.plots` module, use the following code;\n"
      ]
    },
    {
      "cell_type": "code",
      "execution_count": null,
      "metadata": {
        "collapsed": false
      },
      "outputs": [],
      "source": [
        "import gamba as gb\nimport numpy as np # for generating some data\nimport pandas as pd\n\n# create a measures table to use for the example\n# using mixed distributions to see the full effects\nnum_players = 500\nmeasures_table = pd.DataFrame()\nmeasures_table['player_id'] = ['anonymous'] * num_players\nmeasures_table['duration'] = np.random.standard_exponential(size=num_players)\nmeasures_table['frequency'] = np.random.normal(loc=50, scale=1,size=num_players)\nmeasures_table['num_bets'] = np.random.standard_exponential(size=num_players)\nmeasures_table['bet_size'] = np.random.uniform(low=1, high=500,size=num_players)\n\nscatter_variant = gb.plot_measure_pair_plot(measures_table)\nscatter_variant.show()"
      ]
    },
    {
      "cell_type": "markdown",
      "metadata": {},
      "source": [
        "Pair plots are really useful for exploring relationships between different behavioural measures, but using scatter plots makes it difficult to see the density of different areas.\nTo address this problem, the pair_plot method comes with a 'thermal' parameter, which if True will intead use a 2D histogram with a thermal blur in place of the scatter plots above.\nThis is much more useful (and colourful), but maybe a bit garish for academic publication - feel free to experiment with different colours and blurs by using the function in your own work!\n\n\n"
      ]
    },
    {
      "cell_type": "code",
      "execution_count": null,
      "metadata": {
        "collapsed": false
      },
      "outputs": [],
      "source": [
        "thermal_variant = gb.plot_measure_pair_plot(measures_table, thermal=True)\nthermal_variant.show()"
      ]
    }
  ],
  "metadata": {
    "kernelspec": {
      "display_name": "Python 3",
      "language": "python",
      "name": "python3"
    },
    "language_info": {
      "codemirror_mode": {
        "name": "ipython",
        "version": 3
      },
      "file_extension": ".py",
      "mimetype": "text/x-python",
      "name": "python",
      "nbconvert_exporter": "python",
      "pygments_lexer": "ipython3",
      "version": "3.8.0"
    }
  },
  "nbformat": 4,
  "nbformat_minor": 0
}