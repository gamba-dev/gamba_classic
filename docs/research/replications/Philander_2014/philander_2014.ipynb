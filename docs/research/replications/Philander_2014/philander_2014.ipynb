{
 "cells": [
  {
   "cell_type": "markdown",
   "metadata": {},
   "source": [
    "# Reproducing Philander's 2014 study using [*gamba*](https://github.com/gamba-dev/gamba)\n",
    "\n",
    "This notebook shows how gamba can be used to reproduce findings from Philander's 2014 study on data mining methods for detecting high-risk gamblers.\n",
    "\n",
    "- [Data Download (thetransparencyproject.org)](http://www.thetransparencyproject.org/download_index.php)\n",
    "- [Data Description]()\n",
    "- [Original Paper](https://www.tandfonline.com/doi/abs/10.1080/14459795.2013.841721)\n",
    "\n",
    "It uses data available through the transaparency project above, and performs nine distinct supervised machine learning techniques.\n",
    "To begin, import gamba as usual;"
   ]
  },
  {
   "cell_type": "code",
   "execution_count": 1,
   "metadata": {},
   "outputs": [
    {
     "name": "stdout",
     "output_type": "stream",
     "text": [
      "thank you for using gamba!\n"
     ]
    }
   ],
   "source": [
    "import gamba as gb"
   ]
  },
  {
   "cell_type": "code",
   "execution_count": 2,
   "metadata": {},
   "outputs": [
    {
     "name": "stdout",
     "output_type": "stream",
     "text": [
      "530\n"
     ]
    }
   ],
   "source": [
    "raw_data = gb.read_csv('RawDataSet2_DailyAggregation.txt', delimiter='\\t', parse_dates=['TimeDATE'])\n",
    "analytic_data = gb.read_csv('AnalyticDataSet_HighRisk.txt', delimiter='\\t')\n",
    "print(len(analytic_data))"
   ]
  },
  {
   "cell_type": "code",
   "execution_count": 113,
   "metadata": {},
   "outputs": [
    {
     "name": "stdout",
     "output_type": "stream",
     "text": [
      "train:validation split of\n",
      " 369 : 161 ready\n"
     ]
    }
   ],
   "source": [
    "import numpy as np\n",
    "\n",
    "philander_data = analytic_data.copy()\n",
    "philander_data['self_exclude'] = np.where(philander_data['Sereason'] == 3, 1, 0) # apply the binary self-exclude technique (middle of page 5)\n",
    "philander_data.drop(labels=['UserID','Sereason','random','p2clusteringactivity','p2clusterhalf1','p2clusterhalf2'], axis=1, inplace=True)\n",
    "philander_data.columns = ['country','gender','age','total_wagered','num_bets','frequency','duration','bets_per_day','net_loss',\n",
    "                          'intensity','variability','frequency','trajectory',\n",
    "                          'z_intensity','z_variability','z_frequency','z_trajectory','self_exclude']\n",
    "#display(philander_data)\n",
    " \n",
    "train_table = philander_data.sample(frac=.696) # randomly takes a fraction (69.6% to be precise, equal to 369 rows) of the data as the training set\n",
    "test_table = philander_data.drop(train_table.index)\n",
    "\n",
    "train_data = train_table.drop(['self_exclude'], axis=1).values\n",
    "train_labels = train_table['self_exclude'].values\n",
    "test_data = test_table.drop(['self_exclude'], axis=1)\n",
    "test_labels = test_table['self_exclude'].values\n",
    "\n",
    "print('train:validation split of\\n', len(train_labels),':',len(test_labels), 'ready')"
   ]
  },
  {
   "cell_type": "markdown",
   "metadata": {},
   "source": [
    "okay this is gonna be a lot, here are the 9 methods;\n",
    "- [stepwise logistic regression](https://scikit-learn.org/stable/modules/generated/sklearn.linear_model.LogisticRegression.html#sklearn.linear_model.LogisticRegression)\n",
    "- [lasso logistic regression](https://scikit-learn.org/dev/modules/linear_model.html#lars-lasso)\n",
    "- [neural network (regression]()\n",
    "- [neural network (classification]()\n",
    "- [SVM (e-regression)]()\n",
    "- [SVM (c-classification)]()\n",
    "- [SVM (1-classification)]()\n",
    "- [random forest (regression)]()\n",
    "- [random forest (classification)]()"
   ]
  },
  {
   "cell_type": "markdown",
   "metadata": {},
   "source": [
    "## Logistic Regression"
   ]
  },
  {
   "cell_type": "code",
   "execution_count": null,
   "metadata": {},
   "outputs": [],
   "source": []
  },
  {
   "cell_type": "markdown",
   "metadata": {},
   "source": [
    "## Neural Networks\n",
    "The following cell uses the [Keras](https://keras.io) library to create and train some neural networks as described in the study."
   ]
  },
  {
   "cell_type": "code",
   "execution_count": 92,
   "metadata": {
    "collapsed": true,
    "jupyter": {
     "outputs_hidden": true,
     "source_hidden": true
    }
   },
   "outputs": [
    {
     "name": "stderr",
     "output_type": "stream",
     "text": [
      "Using TensorFlow backend.\n"
     ]
    },
    {
     "name": "stdout",
     "output_type": "stream",
     "text": [
      "Train on 369 samples, validate on 161 samples\n",
      "Epoch 1/10\n",
      "369/369 [==============================] - 0s 872us/step - loss: 23659.0378 - accuracy: 0.0081 - val_loss: 10442.1524 - val_accuracy: 0.0124\n",
      "Epoch 2/10\n",
      "369/369 [==============================] - 0s 97us/step - loss: 11762.2042 - accuracy: 0.0244 - val_loss: 2925.7215 - val_accuracy: 0.0186\n",
      "Epoch 3/10\n",
      "369/369 [==============================] - 0s 109us/step - loss: 2565.1199 - accuracy: 0.0325 - val_loss: 1826.4607 - val_accuracy: 0.0497\n",
      "Epoch 4/10\n",
      "369/369 [==============================] - 0s 119us/step - loss: 1846.5679 - accuracy: 0.0352 - val_loss: 2394.1852 - val_accuracy: 0.0248\n",
      "Epoch 5/10\n",
      "369/369 [==============================] - 0s 107us/step - loss: 4123.7911 - accuracy: 0.0488 - val_loss: 7263.1929 - val_accuracy: 0.0621\n",
      "Epoch 6/10\n",
      "369/369 [==============================] - 0s 121us/step - loss: 2535.5793 - accuracy: 0.0759 - val_loss: 1523.1280 - val_accuracy: 0.0745\n",
      "Epoch 7/10\n",
      "369/369 [==============================] - 0s 130us/step - loss: 1294.8921 - accuracy: 0.0840 - val_loss: 783.9431 - val_accuracy: 0.0870\n",
      "Epoch 8/10\n",
      "369/369 [==============================] - 0s 145us/step - loss: 1878.4498 - accuracy: 0.0976 - val_loss: 1948.9737 - val_accuracy: 0.1180\n",
      "Epoch 9/10\n",
      "369/369 [==============================] - 0s 100us/step - loss: 875.1260 - accuracy: 0.0894 - val_loss: 415.9469 - val_accuracy: 0.1056\n",
      "Epoch 10/10\n",
      "369/369 [==============================] - 0s 110us/step - loss: 1133.1710 - accuracy: 0.0705 - val_loss: 16445.4237 - val_accuracy: 0.0932\n",
      "161/161 [==============================] - 0s 28us/step\n"
     ]
    }
   ],
   "source": [
    "from keras.layers import Dense, Activation\n",
    "from keras.models import Sequential\n",
    "\n",
    "model = Sequential()\n",
    "model.add(Dense(10, activation = 'relu', input_dim = 17))\n",
    "model.add(Dense(25, activation = 'relu'))\n",
    "model.add(Dense(50, activation = 'relu'))\n",
    "model.add(Dense(units = 1))\n",
    "\n",
    "model.compile(optimizer = 'adam', loss = 'mean_squared_error',\n",
    "              metrics=['accuracy'])\n",
    "\n",
    "history = model.fit(train_data, train_labels, \n",
    "                    batch_size = 10, epochs = 10,\n",
    "                    validation_data=(test_data, test_labels))\n",
    "\n",
    "raw_prediction = model.predict(test_data)\n",
    "prediction = [value[0] for value in np.where(raw_prediction > 0.5, 1, 0)]\n",
    "\n",
    "results = model.evaluate(test_data, test_labels)"
   ]
  },
  {
   "cell_type": "code",
   "execution_count": 27,
   "metadata": {
    "collapsed": true,
    "jupyter": {
     "outputs_hidden": true,
     "source_hidden": true
    }
   },
   "outputs": [
    {
     "data": {
      "image/png": "[encoded data removed]",
      "text/plain": [
       "<Figure size 432x288 with 1 Axes>"
      ]
     },
     "metadata": {
      "needs_background": "light"
     },
     "output_type": "display_data"
    },
    {
     "data": {
      "text/plain": [
       "<matplotlib.legend.Legend at 0x7f858f0607f0>"
      ]
     },
     "execution_count": 27,
     "metadata": {},
     "output_type": "execute_result"
    },
    {
     "data": {
      "image/png": "[encoded data removed]",
      "text/plain": [
       "<Figure size 432x288 with 1 Axes>"
      ]
     },
     "metadata": {
      "needs_background": "light"
     },
     "output_type": "display_data"
    }
   ],
   "source": [
    "loss = history.history['loss']\n",
    "val_loss = history.history['val_loss']\n",
    "\n",
    "acc = history.history['accuracy']\n",
    "val_acc = history.history['val_accuracy']\n",
    "\n",
    "epochs = range(1, len(loss) + 1)\n",
    "\n",
    "import matplotlib.pyplot as plt\n",
    "plt.plot(epochs, loss, 'bo', label='Training Loss')\n",
    "plt.plot(epochs, val_loss, 'b', label='Validation Loss')\n",
    "plt.legend()\n",
    "plt.show()\n",
    "\n",
    "plt.figure()\n",
    "plt.plot(epochs, acc, 'bo', label='Training Accuracy')\n",
    "plt.plot(epochs, val_acc, 'b', label='Validation Accuracy')\n",
    "plt.legend()"
   ]
  },
  {
   "cell_type": "markdown",
   "metadata": {},
   "source": [
    "## Support Vector Machines (SVMs)\n",
    "The following cell uses [scikit-learn's SVM](https://scikit-learn.org/stable/modules/classes.html#module-sklearn.svm) methods to create and trains some SVM's. The original paper uses Dimitriadou et al's [implementations in R described here](https://www.researchgate.net/profile/Friedrich_Leisch/publication/221678005_E1071_Misc_Functions_of_the_Department_of_Statistics_E1071_TU_Wien/links/547305880cf24bc8ea19ad1d/E1071-Misc-Functions-of-the-Department-of-Statistics-E1071-TU-Wien.pdf)."
   ]
  },
  {
   "cell_type": "code",
   "execution_count": 115,
   "metadata": {},
   "outputs": [],
   "source": [
    "from sklearn import svm, metrics\n",
    "import pandas as pd"
   ]
  },
  {
   "cell_type": "markdown",
   "metadata": {},
   "source": [
    "### SVM eps-Regression"
   ]
  },
  {
   "cell_type": "code",
   "execution_count": 96,
   "metadata": {},
   "outputs": [],
   "source": [
    "def svm_eps_regression(train_data, train_labels, test_data):\n",
    "    model = svm.SVR(kernel='rbf')\n",
    "\n",
    "    model.fit(train_data, train_labels)\n",
    "\n",
    "    predicted_labels = model.predict(test_data)\n",
    "\n",
    "    # convert probabilities to binary labels for comparison\n",
    "    regression_cutoff = 0.5\n",
    "    predicted_labels = np.where(predicted_labels < regression_cutoff, 0, 1)\n",
    "    \n",
    "    return predicted_labels"
   ]
  },
  {
   "cell_type": "markdown",
   "metadata": {},
   "source": [
    "### SVM C-Support Vector Classification"
   ]
  },
  {
   "cell_type": "code",
   "execution_count": 97,
   "metadata": {},
   "outputs": [],
   "source": [
    "def svm_c_classification(train_data, train_labels, test_data):\n",
    "    \n",
    "    model = svm.SVC(kernel='rbf')\n",
    "\n",
    "    model.fit(train_data, train_labels)\n",
    "\n",
    "    predicted_labels = model.predict(test_data)\n",
    "    \n",
    "    return predicted_labels"
   ]
  },
  {
   "cell_type": "markdown",
   "metadata": {},
   "source": [
    "### SVM one-Classification"
   ]
  },
  {
   "cell_type": "code",
   "execution_count": 98,
   "metadata": {},
   "outputs": [],
   "source": [
    "def svm_one_classification(train_data, train_labels, test_data):\n",
    "    model = svm.OneClassSVM(kernel='rbf')\n",
    "\n",
    "    model.fit(train_data, train_labels)\n",
    "\n",
    "    predicted_labels = model.predict(test_data)\n",
    "\n",
    "    # need to add a correction step for the labels here as OneClassSVM returns -1 for outliers and 1 for inliers\n",
    "    predicted_labels = np.where(predicted_labels < 0, 1, 0)\n",
    "    \n",
    "    return predicted_labels"
   ]
  },
  {
   "cell_type": "markdown",
   "metadata": {},
   "source": [
    "## Random Forest\n",
    "This section implements [scikit-learn's ensemble methods](https://scikit-learn.org/stable/modules/ensemble.html#forest) to create random forests for classification and regression"
   ]
  },
  {
   "cell_type": "markdown",
   "metadata": {},
   "source": [
    "### RF Regression"
   ]
  },
  {
   "cell_type": "code",
   "execution_count": 103,
   "metadata": {},
   "outputs": [],
   "source": [
    "from sklearn.ensemble import RandomForestRegressor\n",
    "\n",
    "def rf_regression(train_data, train_labels, test_data):\n",
    "    model = RandomForestRegressor()\n",
    "\n",
    "    model.fit(train_data, train_labels)\n",
    "\n",
    "    predicted_labels = model.predict(test_data)\n",
    "\n",
    "    # convert probabilities to binary labels for comparison\n",
    "    regression_cutoff = 0.5\n",
    "    predicted_labels = np.where(predicted_labels < regression_cutoff, 0, 1)\n",
    "\n",
    "    return predicted_labels"
   ]
  },
  {
   "cell_type": "markdown",
   "metadata": {},
   "source": [
    "### RF Classification"
   ]
  },
  {
   "cell_type": "code",
   "execution_count": 104,
   "metadata": {},
   "outputs": [],
   "source": [
    "from sklearn.ensemble import RandomForestClassifier\n",
    "\n",
    "def rf_classification(train_data, train_labels, test_data):\n",
    "    model = RandomForestClassifier(n_estimators=100)\n",
    "\n",
    "    model.fit(train_data, train_labels)\n",
    "\n",
    "    predicted_labels = model.predict(test_data)\n",
    "\n",
    "    return predicted_labels"
   ]
  },
  {
   "cell_type": "markdown",
   "metadata": {},
   "source": [
    "## All Methods Together"
   ]
  },
  {
   "cell_type": "code",
   "execution_count": 120,
   "metadata": {},
   "outputs": [
    {
     "data": {
      "text/html": [
       "<div>\n",
       "<style scoped>\n",
       "    .dataframe tbody tr th:only-of-type {\n",
       "        vertical-align: middle;\n",
       "    }\n",
       "\n",
       "    .dataframe tbody tr th {\n",
       "        vertical-align: top;\n",
       "    }\n",
       "\n",
       "    .dataframe thead th {\n",
       "        text-align: right;\n",
       "    }\n",
       "</style>\n",
       "<table border=\"1\" class=\"dataframe\">\n",
       "  <thead>\n",
       "    <tr style=\"text-align: right;\">\n",
       "      <th></th>\n",
       "      <th>sensitivity</th>\n",
       "      <th>specificity</th>\n",
       "      <th>accuracy</th>\n",
       "      <th>precision</th>\n",
       "      <th>auc</th>\n",
       "      <th>odds_ratio</th>\n",
       "    </tr>\n",
       "  </thead>\n",
       "  <tbody>\n",
       "    <tr>\n",
       "      <th>SVM eps-Regression</th>\n",
       "      <td>0.020</td>\n",
       "      <td>1.000</td>\n",
       "      <td>0.689</td>\n",
       "      <td>1.000</td>\n",
       "      <td>0.510</td>\n",
       "      <td>0.000</td>\n",
       "    </tr>\n",
       "    <tr>\n",
       "      <th>SVM c-Classification</th>\n",
       "      <td>0.000</td>\n",
       "      <td>1.000</td>\n",
       "      <td>0.683</td>\n",
       "      <td>NaN</td>\n",
       "      <td>0.500</td>\n",
       "      <td>0.000</td>\n",
       "    </tr>\n",
       "    <tr>\n",
       "      <th>SVM one-Classification</th>\n",
       "      <td>0.431</td>\n",
       "      <td>0.536</td>\n",
       "      <td>0.503</td>\n",
       "      <td>0.301</td>\n",
       "      <td>0.484</td>\n",
       "      <td>0.878</td>\n",
       "    </tr>\n",
       "    <tr>\n",
       "      <th>RF Regression</th>\n",
       "      <td>0.275</td>\n",
       "      <td>0.882</td>\n",
       "      <td>0.689</td>\n",
       "      <td>0.519</td>\n",
       "      <td>0.578</td>\n",
       "      <td>2.823</td>\n",
       "    </tr>\n",
       "    <tr>\n",
       "      <th>RF Classification</th>\n",
       "      <td>0.118</td>\n",
       "      <td>0.945</td>\n",
       "      <td>0.683</td>\n",
       "      <td>0.500</td>\n",
       "      <td>0.532</td>\n",
       "      <td>2.311</td>\n",
       "    </tr>\n",
       "  </tbody>\n",
       "</table>\n",
       "</div>"
      ],
      "text/plain": [
       "                        sensitivity  specificity  accuracy  precision    auc  \\\n",
       "SVM eps-Regression            0.020        1.000     0.689      1.000  0.510   \n",
       "SVM c-Classification          0.000        1.000     0.683        NaN  0.500   \n",
       "SVM one-Classification        0.431        0.536     0.503      0.301  0.484   \n",
       "RF Regression                 0.275        0.882     0.689      0.519  0.578   \n",
       "RF Classification             0.118        0.945     0.683      0.500  0.532   \n",
       "\n",
       "                        odds_ratio  \n",
       "SVM eps-Regression           0.000  \n",
       "SVM c-Classification         0.000  \n",
       "SVM one-Classification       0.878  \n",
       "RF Regression                2.823  \n",
       "RF Classification            2.311  "
      ]
     },
     "metadata": {},
     "output_type": "display_data"
    }
   ],
   "source": [
    "def performance(method, actual, predicted):\n",
    "    # resources:\n",
    "    # describes odds ratio and precision equations\n",
    "    # https://cran.r-project.org/web/packages/ROCR/ROCR.pdf\n",
    "    # describes sklearn's confusion matrix\n",
    "    # https://scikit-learn.org/stable/modules/generated/sklearn.metrics.confusion_matrix.html#sklearn-metrics-confusion-matrix\n",
    "\n",
    "    result = metrics.classification_report(actual, y_pred=predicted, output_dict=True)\n",
    "    sensitivity = result['1']['recall']\n",
    "    specificity = result['0']['recall']\n",
    "    accuracy = result['accuracy']\n",
    "    fpr, tpr, thresholds = metrics.roc_curve(actual, predicted)\n",
    "    auc = metrics.auc(fpr, tpr)\n",
    "    # odds ratio is (tp x tn)/(fp x fn)\n",
    "    confusion_matrix = metrics.confusion_matrix(actual, predicted)\n",
    "    tn, fp, fn, tp = confusion_matrix.ravel()\n",
    "    odds_ratio = 0\n",
    "    if fp != 0 and fn != 0:\n",
    "        odds_ratio = (tp * tn)/(fp * fn)\n",
    "    # precision is tp / (tp + fp)\n",
    "    precision = tp / (tp + fp)\n",
    "    #if odds_ratio == 0:\n",
    "    #    print('tn,fp,fn,tp\\n', tn,fp,fn,tp)\n",
    "\n",
    "    metrics_df = pd.DataFrame()\n",
    "    metrics_df['sensitivity'] = [round(sensitivity, 3)]\n",
    "    metrics_df['specificity'] = [round(specificity, 3)]\n",
    "    metrics_df['accuracy'] = [round(accuracy, 3)]\n",
    "    metrics_df['precision'] = [round(precision, 3)]\n",
    "    metrics_df['auc'] = [round(auc, 3)]\n",
    "    metrics_df['odds_ratio'] = [round(odds_ratio, 3)]\n",
    "    metrics_df.index = [method]\n",
    "    return metrics_df\n",
    "\n",
    "svm_e = svm_eps_regression(train_data, train_labels, test_data)\n",
    "svm_c = svm_c_classification(train_data, train_labels, test_data)\n",
    "svm_o = svm_one_classification(train_data, train_labels, test_data)\n",
    "rf_r = rf_regression(train_data, train_labels, test_data)\n",
    "rf_c = rf_classification(train_data, train_labels, test_data)\n",
    "\n",
    "all_results = [\n",
    "    performance('SVM eps-Regression', test_labels, svm_e),\n",
    "    performance('SVM c-Classification', test_labels, svm_c),\n",
    "    performance('SVM one-Classification', test_labels, svm_o),\n",
    "    performance('RF Regression', test_labels, rf_r),\n",
    "    performance('RF Classification', test_labels, rf_c)\n",
    "]\n",
    "\n",
    "all_results_df = pd.concat(all_results)\n",
    "display(all_results_df)"
   ]
  },
  {
   "cell_type": "code",
   "execution_count": null,
   "metadata": {},
   "outputs": [],
   "source": []
  }
 ],
 "metadata": {
  "kernelspec": {
   "display_name": "Python 3",
   "language": "python",
   "name": "python3"
  },
  "language_info": {
   "codemirror_mode": {
    "name": "ipython",
    "version": 3
   },
   "file_extension": ".py",
   "mimetype": "text/x-python",
   "name": "python",
   "nbconvert_exporter": "python",
   "pygments_lexer": "ipython3",
   "version": "3.8.0"
  }
 },
 "nbformat": 4,
 "nbformat_minor": 4
}
